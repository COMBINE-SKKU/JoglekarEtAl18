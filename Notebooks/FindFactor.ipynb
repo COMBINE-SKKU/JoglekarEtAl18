{
 "cells": [
  {
   "cell_type": "markdown",
   "metadata": {},
   "source": [
    "## Problem: Find a factor to make delta synapses and alpha synapses equivalent"
   ]
  },
  {
   "cell_type": "markdown",
   "metadata": {},
   "source": [
    "### Parameter for excitatory neuron as post-synaptic neuron "
   ]
  },
  {
   "cell_type": "code",
   "execution_count": 34,
   "metadata": {},
   "outputs": [],
   "source": [
    "from brian2 import *\n",
    "\n",
    "# Parameters\n",
    "R            = 50  *Mohm          # membrane resitance [MOhm]\n",
    "tau_m        = 20 * ms            # excitatory neuron membrane time constant [ms]\n",
    "c_m          = tau_m/R            # Capacitance excitatory neurons [nF]\n",
    "tauRef       = 2.0 *ms            # refractory time [ms]\n",
    "v_rest       = -70.0 *mV          # resting potential [mV]\n",
    "Vt           = -50.0 *mV          # threshold [mV]\n",
    "Vr           = -60.0 *mV          # reset [mV]  \n",
    "tau_syn_e    = 0.1 *ms            # time constant for synapse [ms] \n",
    "\n",
    "# Neuron model with alpha function for synpases\n",
    "eqs_alpha = '''\n",
    "    dv/dt = (v_rest-v)/tau_m + R*(ie + i_inj)/tau_m  : volt (unless refractory)\n",
    "    \n",
    "    die/dt = (2.7182818284590451*ye-ie)/tau_syn_e : ampere\n",
    "    dye/dt = -ye/tau_syn_e                        : ampere\n",
    "    i_inj : ampere\n",
    "    '''\n",
    "# Neuron model without alpha function for synapses\n",
    "eqs = '''\n",
    "    dv/dt = (v_rest-v)/tau_m + (ie + i_inj)/c_m  : volt (unless refractory)\n",
    "   i_inj : ampere\n",
    "    '''"
   ]
  },
  {
   "cell_type": "code",
   "execution_count": 35,
   "metadata": {},
   "outputs": [],
   "source": [
    "# array to store current and psp\n",
    "arrayData=np.zeros((2,11))\n",
    "# For over synaptic currents\n",
    "for k in range(0,11):\n",
    "\n",
    "    # Create a Spike generator that spikes at 200ms\n",
    "    indices = array([0])\n",
    "    times = array([200])*ms\n",
    "    G = SpikeGeneratorGroup(1, indices, times)    \n",
    "    \n",
    "    # Create a Neuron Group with only one neuron\n",
    "    P = NeuronGroup(1, eqs_alpha, threshold='v>Vt', reset='v = Vr', refractory=2*ms, method='euler')\n",
    "    P.v = v_rest        # initial condition for membrane potential\n",
    "    P.ye = 0*mA         # initial condition for ye (auxiliary variable for alpha function)\n",
    "    P[0].i_inj=0.*nA    # injected or external current\n",
    "    \n",
    "    # Synapse between Spike Generator and Neuron\n",
    "    Ce = Synapses(G, P, on_pre='ye += we')\n",
    "    Ce.connect(j='i')\n",
    "    we = (k/10)*nA #synaptic current\n",
    "    \n",
    "    # Spike Monitor to store \n",
    "    M = StateMonitor(P, 'v', record=True)\n",
    "\n",
    "    # Run simulation\n",
    "    run( 0.5* second)\n",
    "    \n",
    "    # store synpatic current\n",
    "    arrayData[0,k]=(k/10)\n",
    "    # store post synaptic potential caused by synpase\n",
    "    arrayData[1,k]=(max(M.v[0])/mV-min(M.v[0])/mV)\n",
    "    "
   ]
  },
  {
   "cell_type": "code",
   "execution_count": 36,
   "metadata": {},
   "outputs": [
    {
     "data": {
      "text/plain": [
       "Text(0, 0.5, 'Increment in membrane potential (mV)')"
      ]
     },
     "execution_count": 36,
     "metadata": {},
     "output_type": "execute_result"
    },
    {
     "data": {
      "image/png": "[encoded data removed]",
      "text/plain": [
       "<Figure size 432x432 with 1 Axes>"
      ]
     },
     "metadata": {
      "needs_background": "light"
     },
     "output_type": "display_data"
    }
   ],
   "source": [
    "from sklearn import datasets, linear_model\n",
    "from sklearn.metrics import mean_squared_error, r2_score\n",
    "\n",
    "# Create linear regression object\n",
    "regr = linear_model.LinearRegression()\n",
    "\n",
    "# Train the model using the training sets\n",
    "regr.fit(arrayData[0,:].reshape(-1,1), arrayData[1,:])\n",
    "\n",
    "# Relation between increment in membrane potential and synaptic current\n",
    "rcParams['figure.figsize'] = 6, 6\n",
    "plot(arrayData[0,:],arrayData[0,:]*regr.coef_)\n",
    "plot(arrayData[0,:],arrayData[1,:],'o')\n",
    "xlabel('Peak of synaptic current (nA)',fontsize=18)\n",
    "ylabel('Increment in membrane potential (mV)',fontsize=18)"
   ]
  },
  {
   "cell_type": "markdown",
   "metadata": {},
   "source": [
    "#### Parameter"
   ]
  },
  {
   "cell_type": "code",
   "execution_count": 37,
   "metadata": {},
   "outputs": [
    {
     "data": {
      "text/plain": [
       "array([0.67957046])"
      ]
     },
     "execution_count": 37,
     "metadata": {},
     "output_type": "execute_result"
    }
   ],
   "source": [
    "factorE =regr.coef_ \n",
    "factorE"
   ]
  },
  {
   "cell_type": "markdown",
   "metadata": {},
   "source": [
    "### Parameter for inhibitory neuron as post-synaptic neuron "
   ]
  },
  {
   "cell_type": "code",
   "execution_count": 38,
   "metadata": {},
   "outputs": [],
   "source": [
    "# Parameters\n",
    "R            = 50  *Mohm          # membrane resitance [MOhm]\n",
    "tau_m        = 10 * ms            # inhibitory neuron membrane time constant [ms]\n",
    "c_m          = tau_m/R            # Capacitance inhibitory neurons [nF]\n",
    "tauRef       = 2.0 *ms            # refractory time [ms]\n",
    "v_rest       = -70.0 *mV          # resting potential [mV]\n",
    "Vt           = -50.0 *mV          # threshold [mV]\n",
    "Vr           = -60.0 *mV          # reset [mV]  \n",
    "tau_syn_e    = 0.1 *ms            # time constant for synapse [ms] \n",
    "\n",
    "# Neuron model with alpha function for synpases\n",
    "eqs_alpha = '''\n",
    "    dv/dt = (v_rest-v)/tau_m + R*(ie + i_inj)/tau_m  : volt (unless refractory)\n",
    "    \n",
    "    die/dt = (2.7182818284590451*ye-ie)/tau_syn_e : ampere\n",
    "    dye/dt = -ye/tau_syn_e                        : ampere\n",
    "    i_inj : ampere\n",
    "    '''\n",
    "# Neuron model without alpha function for synapses\n",
    "eqs = '''\n",
    "    dv/dt = (v_rest-v)/tau_m + (ie + i_inj)/c_m  : volt (unless refractory)\n",
    "   i_inj : ampere\n",
    "    '''"
   ]
  },
  {
   "cell_type": "code",
   "execution_count": 39,
   "metadata": {},
   "outputs": [],
   "source": [
    "# array to store current and psp\n",
    "arrayData=np.zeros((2,11))\n",
    "# For over synaptic currents\n",
    "for k in range(0,11):\n",
    "\n",
    "    # Create a Spike generator that spikes at 200ms\n",
    "    indices = array([0])\n",
    "    times = array([200])*ms\n",
    "    G = SpikeGeneratorGroup(1, indices, times)    \n",
    "    \n",
    "    # Create a Neuron Group with only one neuron\n",
    "    P = NeuronGroup(1, eqs_alpha, threshold='v>Vt', reset='v = Vr', refractory=2*ms, method='euler')\n",
    "    P.v = v_rest        # initial condition for membrane potential\n",
    "    P.ye = 0*mA         # initial condition for ye (auxiliary variable for alpha function)\n",
    "    P[0].i_inj=0.*nA    # injected or external current\n",
    "    \n",
    "    # Synapse between Spike Generator and Neuron\n",
    "    Ce = Synapses(G, P, on_pre='ye += we')\n",
    "    Ce.connect(j='i')\n",
    "    we = (k/10)*nA #synaptic current\n",
    "    \n",
    "    # Spike Monitor to store \n",
    "    M = StateMonitor(P, 'v', record=True)\n",
    "\n",
    "    # Run simulation\n",
    "    run( 0.5* second)\n",
    "    \n",
    "    # store synpatic current\n",
    "    arrayData[0,k]=(k/10)\n",
    "    # store post synaptic potential caused by synpase\n",
    "    arrayData[1,k]=(max(M.v[0])/mV-min(M.v[0])/mV)\n",
    "    "
   ]
  },
  {
   "cell_type": "code",
   "execution_count": 40,
   "metadata": {},
   "outputs": [
    {
     "data": {
      "text/plain": [
       "Text(0, 0.5, 'Increment in membrane potential (mV)')"
      ]
     },
     "execution_count": 40,
     "metadata": {},
     "output_type": "execute_result"
    },
    {
     "data": {
      "image/png": "[encoded data removed]",
      "text/plain": [
       "<Figure size 432x432 with 1 Axes>"
      ]
     },
     "metadata": {
      "needs_background": "light"
     },
     "output_type": "display_data"
    }
   ],
   "source": [
    "from sklearn import datasets, linear_model\n",
    "from sklearn.metrics import mean_squared_error, r2_score\n",
    "\n",
    "# Create linear regression object\n",
    "regr = linear_model.LinearRegression()\n",
    "\n",
    "# Train the model using the training sets\n",
    "regr.fit(arrayData[0,:].reshape(-1,1), arrayData[1,:])\n",
    "\n",
    "# Relation between increment in membrane potential and synaptic current\n",
    "rcParams['figure.figsize'] = 6, 6\n",
    "plot(arrayData[0,:],arrayData[0,:]*regr.coef_)\n",
    "plot(arrayData[0,:],arrayData[1,:],'o')\n",
    "xlabel('Peak of synaptic current (nA)',fontsize=18)\n",
    "ylabel('Increment in membrane potential (mV)',fontsize=18)"
   ]
  },
  {
   "cell_type": "markdown",
   "metadata": {},
   "source": [
    "#### Parameter"
   ]
  },
  {
   "cell_type": "code",
   "execution_count": 41,
   "metadata": {},
   "outputs": [
    {
     "data": {
      "text/plain": [
       "array([1.35914091])"
      ]
     },
     "execution_count": 41,
     "metadata": {},
     "output_type": "execute_result"
    }
   ],
   "source": [
    "factorI = regr.coef_\n",
    "factorI"
   ]
  },
  {
   "cell_type": "markdown",
   "metadata": {},
   "source": [
    "#### Relation between factors"
   ]
  },
  {
   "cell_type": "code",
   "execution_count": 42,
   "metadata": {},
   "outputs": [
    {
     "data": {
      "text/plain": [
       "array([2.])"
      ]
     },
     "execution_count": 42,
     "metadata": {},
     "output_type": "execute_result"
    }
   ],
   "source": [
    "factorI/factorE"
   ]
  },
  {
   "cell_type": "code",
   "execution_count": null,
   "metadata": {},
   "outputs": [],
   "source": []
  }
 ],
 "metadata": {
  "kernelspec": {
   "display_name": "Python 3",
   "language": "python",
   "name": "python3"
  },
  "language_info": {
   "codemirror_mode": {
    "name": "ipython",
    "version": 3
   },
   "file_extension": ".py",
   "mimetype": "text/x-python",
   "name": "python",
   "nbconvert_exporter": "python",
   "pygments_lexer": "ipython3",
   "version": "3.7.4"
  }
 },
 "nbformat": 4,
 "nbformat_minor": 2
}
